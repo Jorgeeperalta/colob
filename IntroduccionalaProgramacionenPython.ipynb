{
  "nbformat": 4,
  "nbformat_minor": 0,
  "metadata": {
    "colab": {
      "name": "IntroduccionalaProgramacionenPython.ipynb",
      "provenance": [],
      "collapsed_sections": [],
      "toc_visible": true,
      "authorship_tag": "ABX9TyNmaVGq4GRLtUfEeO5Q7KZ4",
      "include_colab_link": true
    },
    "kernelspec": {
      "name": "python3",
      "display_name": "Python 3"
    },
    "language_info": {
      "name": "python"
    }
  },
  "cells": [
    {
      "cell_type": "markdown",
      "metadata": {
        "id": "view-in-github",
        "colab_type": "text"
      },
      "source": [
        "<a href=\"https://colab.research.google.com/github/Jorgeeperalta/colob/blob/main/IntroduccionalaProgramacionenPython.ipynb\" target=\"_parent\"><img src=\"https://colab.research.google.com/assets/colab-badge.svg\" alt=\"Open In Colab\"/></a>"
      ]
    },
    {
      "cell_type": "markdown",
      "source": [
        "Ejercicio 2.1.\n",
        "Escribir un programa que le pregunte al usuario una cantidad de pesos, una tasa de interés y un número de años y muestre como resultado el monto final a obtener. La fórmula a utilizar es:\n",
        "\n",
        "Cn = C * (1 + x/100) ^ n"
      ],
      "metadata": {
        "id": "x6IcBIY1QmDN"
      }
    },
    {
      "cell_type": "code",
      "execution_count": null,
      "metadata": {
        "colab": {
          "base_uri": "https://localhost:8080/"
        },
        "id": "SscgtTQsKFhG",
        "outputId": "6ea094ac-6531-4270-e72b-760fa489a942"
      },
      "outputs": [
        {
          "output_type": "stream",
          "name": "stdout",
          "text": [
            "¿introduzca cantidad de pesos 500\n",
            "¿introduzca taza de interes 10\n",
            "Introduzca numero de años5\n",
            "805.2550000000002\n"
          ]
        }
      ],
      "source": [
        " \n",
        "pesos = float(input(\"¿introduzca cantidad de pesos \"))\n",
        "tasaDeInteres = float(input(\"¿introduzca taza de interes \"))\n",
        "numeroDeAnios = int(input(\"Introduzca numero de años\"))\n",
        "Cn= pesos  * ( 1+ tasaDeInteres/100) ** numeroDeAnios\n",
        "print(Cn)"
      ]
    },
    {
      "cell_type": "markdown",
      "source": [
        "Ejercicio 2.2.\n",
        "Escribir un programa que convierta un valor dado en grados Fahrenheit a grados Celsius. Recordar que la fórmula para la conversión es:\n",
        "\n",
        "F = 9/5 * C + 32."
      ],
      "metadata": {
        "id": "XzcH3cyxQrZa"
      }
    },
    {
      "cell_type": "code",
      "source": [
        "gradosF = float(input(\"¿introduzca grados fahrenheit \"))\n",
        "\n",
        "C = (gradosF - 32) * (5/9)\n",
        "print (C)"
      ],
      "metadata": {
        "colab": {
          "base_uri": "https://localhost:8080/"
        },
        "id": "fny4mfP9Qxgd",
        "outputId": "56252020-d375-412d-ce38-59cf79d08626"
      },
      "execution_count": null,
      "outputs": [
        {
          "output_type": "stream",
          "name": "stdout",
          "text": [
            "¿introduzca grados fahrenheit 120\n",
            "48.88888888888889\n"
          ]
        }
      ]
    },
    {
      "cell_type": "markdown",
      "source": [
        "# Nueva sección"
      ],
      "metadata": {
        "id": "u6qjJi4pFYtp"
      }
    },
    {
      "cell_type": "code",
      "source": [
        "from google.colab import drive\n",
        "drive.mount('/content/drive')"
      ],
      "metadata": {
        "id": "0r6qO65LFiY0"
      },
      "execution_count": null,
      "outputs": []
    },
    {
      "cell_type": "markdown",
      "source": [
        "Ejercicio 2.3.\n",
        "Escribir un programa que pregunte el nombre del usuario en la consola y después de que el usuario lo introduzca muestre por pantalla el nombre en mayúsculas y el número de caracteres que contiene en líneas distintas."
      ],
      "metadata": {
        "id": "C9FsF67lToF2"
      }
    },
    {
      "cell_type": "code",
      "source": [
        "nombre = (input(\"Introdusca su nombre\"))\n",
        "nombre = nombre.upper()\n",
        "cantidad = str(len(nombre)) \n",
        "\n",
        "print (cantidad + nombre)\n",
        "print (nombre  )"
      ],
      "metadata": {
        "colab": {
          "base_uri": "https://localhost:8080/"
        },
        "id": "LGgv_AQWTpcl",
        "outputId": "6843c5d7-750f-45b8-cace-db5804c9869f"
      },
      "execution_count": null,
      "outputs": [
        {
          "output_type": "stream",
          "name": "stdout",
          "text": [
            "Introdusca su nombrefacu\n",
            "4FACU\n",
            "FACU\n"
          ]
        }
      ]
    },
    {
      "cell_type": "markdown",
      "source": [
        "Ejercicio 2.4.\n",
        "Escribir un programa que pregunte al usuario su edad y muestre por pantalla si es mayor de edad o no."
      ],
      "metadata": {
        "id": "JzlV3-SxYDSD"
      }
    },
    {
      "cell_type": "markdown",
      "source": [
        ""
      ],
      "metadata": {
        "id": "sJaGjna1XxYh"
      }
    },
    {
      "cell_type": "code",
      "source": [
        "edad = int(input(\"Introdusca su edad\"))\n",
        "if edad > 18:\n",
        "      print (\"es mayor de edad\")\n",
        "else: \n",
        "  print(\"es menos\")\n",
        "\n",
        "    "
      ],
      "metadata": {
        "colab": {
          "base_uri": "https://localhost:8080/"
        },
        "id": "seEWG1RTYMI0",
        "outputId": "36832d19-6caa-4faf-cb83-c82d1487a1ff"
      },
      "execution_count": null,
      "outputs": [
        {
          "output_type": "stream",
          "name": "stdout",
          "text": [
            "Introdusca su edad45\n",
            "es mayor de edad\n"
          ]
        }
      ]
    },
    {
      "cell_type": "markdown",
      "source": [
        "Ejercicio 2.5.\n",
        "Para tributar un determinado impuesto se debe ser mayor de 16 años y tener unos ingresos superiores a $1000 mensuales. Escribir un programa que pregunte al usuario su edad y sus ingresos mensuales y muestre por pantalla si el usuario tiene que tributar o no.\n"
      ],
      "metadata": {
        "id": "VF7_BcRTY7aU"
      }
    },
    {
      "cell_type": "code",
      "source": [
        "edad = int(input(\"Introdusca su edad\"))\n",
        "ingreso = int(input(\"Introdusca su ingreso\"))\n",
        "if edad > 18 and ingreso > 1000:\n",
        "      print (\"tiene que tributar\")\n",
        "else: \n",
        "  print(\"mo tributa\")"
      ],
      "metadata": {
        "colab": {
          "base_uri": "https://localhost:8080/"
        },
        "id": "xvcygoIBZCvF",
        "outputId": "b32841af-5c74-4a87-9118-220ded01cf9a"
      },
      "execution_count": null,
      "outputs": [
        {
          "output_type": "stream",
          "name": "stdout",
          "text": [
            "Introdusca su edad40\n",
            "Introdusca su ingreso500\n",
            "mo tributa\n"
          ]
        }
      ]
    },
    {
      "cell_type": "markdown",
      "source": [
        "Ejercicio 2.6.\n",
        "Los alumnos de un curso se han dividido en dos grupos A y B de acuerdo al sexo y el nombre. El grupo A esta formado por las mujeres con un nombre anterior a la M y los hombres con un nombre posterior a la N y el grupo B por el resto. Escribir un programa que pregunte al usuario su nombre y sexo, y muestre por pantalla el grupo que le corresponde."
      ],
      "metadata": {
        "id": "NcAUauELZhgh"
      }
    },
    {
      "cell_type": "code",
      "source": [
        "a = 1 \n",
        "\n",
        "while a ==1:\n",
        "  nombre = (input(\"Introdusca su nombre\"))\n",
        "  sexo = (input(\"Introdusca su sexo\"))\n",
        "  primeraLetra= nombre[0].upper()\n",
        " \n",
        "  if  (primeraLetra < 'M' and sexo=='m') or (primeraLetra > 'N' and sexo== 'h'):\n",
        "        print('Grupo A')\n",
        " \n",
        "  else:\n",
        "      print ('Grupo B')\n",
        "  a = int(input(\"desea sequir\"))\n"
      ],
      "metadata": {
        "id": "r3wb_oy0ZnPO",
        "colab": {
          "base_uri": "https://localhost:8080/"
        },
        "outputId": "059cd7c9-8594-4008-9ccb-5bc40ae8e806"
      },
      "execution_count": null,
      "outputs": [
        {
          "name": "stdout",
          "output_type": "stream",
          "text": [
            "Introdusca su nombreaa\n",
            "Introdusca su sexom\n",
            "Grupo A\n",
            "desea sequir0\n"
          ]
        }
      ]
    },
    {
      "cell_type": "markdown",
      "source": [
        "Ejercicios con Bucles repetitivos\n",
        "Ejercicio 2.7.\n",
        "Escribir un programa que imprima todos los números pares entre dos números que se le pidan al usuario."
      ],
      "metadata": {
        "id": "o6QMBR-uPW0l"
      }
    },
    {
      "cell_type": "code",
      "source": [
        "numeroUno = int(input(\"Introdusca un numero\"))\n",
        "numeroDos = int(input(\"Introdusca un numero\"))\n",
        "\n",
        "for par in range(numeroUno,numeroDos,2):\n",
        "     if par % 2 == 0:\n",
        "       print(par) "
      ],
      "metadata": {
        "colab": {
          "base_uri": "https://localhost:8080/"
        },
        "id": "aOeE2UITPhm-",
        "outputId": "29982946-e27a-4be2-e058-d981bfe402dd"
      },
      "execution_count": null,
      "outputs": [
        {
          "name": "stdout",
          "output_type": "stream",
          "text": [
            "Introdusca un numero77\n",
            "Introdusca un numero180\n"
          ]
        }
      ]
    },
    {
      "cell_type": "markdown",
      "source": [
        "Ejercicio 2.8.\n",
        "Escribir un programa que pida al usuario un número entero positivo y muestre por pantalla la cuenta desde atrás de ese número hasta cero separados por comas.\n"
      ],
      "metadata": {
        "id": "LIWUHZyzSGy-"
      }
    },
    {
      "cell_type": "code",
      "source": [
        "numeroUno = int(input(\"Introdusca un numero\"))\n",
        "aux=''\n",
        "cont=0\n",
        "for par in range(numeroUno-1,0,-1):\n",
        "    par=str(par)\n",
        "    if(cont==0):\n",
        "      aux+=par\n",
        "      cont=1\n",
        "    else:  \n",
        "     aux=aux+','+par\n",
        "print(aux)         "
      ],
      "metadata": {
        "colab": {
          "base_uri": "https://localhost:8080/"
        },
        "id": "JG8qW3hvSQbY",
        "outputId": "1cbf3536-720b-4170-9aa2-6f5d9d74b94c"
      },
      "execution_count": null,
      "outputs": [
        {
          "output_type": "stream",
          "name": "stdout",
          "text": [
            "Introdusca un numero10\n",
            "9,8,7,6,5,4,3,2,1\n"
          ]
        }
      ]
    },
    {
      "cell_type": "markdown",
      "source": [
        "Ejercicio 2.9.\n",
        "Escribir un programa que pida al usuario un número entero positivo y muestre por pantalla todos los números impares desde 1 hasta ese número separados por comas. Ayuda: usar el módulo de 2 (%)"
      ],
      "metadata": {
        "id": "hEHy_RHRZfQG"
      }
    },
    {
      "cell_type": "code",
      "source": [
        "numeroUno = int(input(\"Introdusca un numero\"))\n",
        "aux=''\n",
        "cont=0\n",
        "for impar in range(0,numeroUno,1):\n",
        "     if impar % 2 != 0:\n",
        "        impar=str(impar)\n",
        "        if(cont==0):\n",
        "          aux+=impar\n",
        "          cont=1\n",
        "        else:  \n",
        "         aux=aux+','+impar\n",
        "print(aux) "
      ],
      "metadata": {
        "colab": {
          "base_uri": "https://localhost:8080/"
        },
        "id": "eh1-whXwZg_a",
        "outputId": "6defe116-792d-4000-ab00-303ba83d43b1"
      },
      "execution_count": null,
      "outputs": [
        {
          "output_type": "stream",
          "name": "stdout",
          "text": [
            "Introdusca un numero10\n",
            "1,3,5,7,9\n"
          ]
        }
      ]
    },
    {
      "cell_type": "markdown",
      "source": [
        "Ejercicio 2.10.\n",
        "Ciclos definidos\n",
        "\n",
        "1- Escribir un ciclo definido para imprimir por pantalla todos los números entre 10 y 20.\n",
        "2- Escribir un ciclo definido que salude por pantalla a sus cinco mejores amigos/as.\n",
        "3- Escribir un programa que use un ciclo definido con rango numérico, que pregunte los nombres de sus cinco mejores amigos/as, y los salude.\n",
        "4- Escribir un programa que use un ciclo definido con rango numérico, que pregunte los nombres de sus seis mejores amigos/as, y los salude.\n",
        "5- Escribir un programa que use un ciclo definido con rango numérico, que averigue a cuántos amigos quieren saludar, les pregunte los nombres de esos amigos/as, y los salude."
      ],
      "metadata": {
        "id": "5Iw6Vr5nbXe9"
      }
    },
    {
      "cell_type": "code",
      "source": [
        "for numero in range(10,20,1):\n",
        "  print(numero)"
      ],
      "metadata": {
        "id": "UgqY8RhFbd1A"
      },
      "execution_count": null,
      "outputs": []
    },
    {
      "cell_type": "code",
      "source": [
        "amigos=['ale','facu','maxi','santi','joni','juan','ester']\n",
        "for amigo in range(0,5,1):\n",
        "  print('Hola ',amigos[amigo])"
      ],
      "metadata": {
        "id": "sTabGxTscXNq"
      },
      "execution_count": null,
      "outputs": []
    },
    {
      "cell_type": "code",
      "source": [
        "for amigo in range(0,5,1):\n",
        "  amigos[amigo]= input('Ingrese nombre de amigo')\n",
        "  \n",
        "for amigo in range(0,5,1):\n",
        "  print('Hola ',amigos[amigo])  "
      ],
      "metadata": {
        "colab": {
          "base_uri": "https://localhost:8080/"
        },
        "id": "T1Roh4szdL18",
        "outputId": "78198f71-22a0-4fb0-b97d-b8a960e9a0ea"
      },
      "execution_count": null,
      "outputs": [
        {
          "output_type": "stream",
          "name": "stdout",
          "text": [
            "Ingrese nombre de amigosergio\n",
            "Ingrese nombre de amigojuan\n",
            "Ingrese nombre de amigoester\n",
            "Ingrese nombre de amigosol\n",
            "Ingrese nombre de amigoelsa\n",
            "Hola  sergio\n",
            "Hola  juan\n",
            "Hola  ester\n",
            "Hola  sol\n",
            "Hola  elsa\n"
          ]
        }
      ]
    },
    {
      "cell_type": "code",
      "source": [
        "for amigo in range(0,6,1):\n",
        "  amigos[amigo]= input('Ingrese nombre de amigo')\n",
        "  \n",
        "for amigo in range(0,6,1):\n",
        "  print('Hola ',amigos[amigo])  "
      ],
      "metadata": {
        "id": "oQrvjQnIeVw-"
      },
      "execution_count": null,
      "outputs": []
    },
    {
      "cell_type": "code",
      "source": [
        "numero= int(input('Ingrese nombre de amigo'))\n",
        "for amigo in range(0,numero,1):\n",
        "  amigos[amigo]= input('Ingrese nombre de amigo')\n",
        "  \n",
        "for amigo in range(0,numero,1):\n",
        "  print('Hola ',amigos[amigo])  "
      ],
      "metadata": {
        "colab": {
          "base_uri": "https://localhost:8080/"
        },
        "id": "XBlXBNGNear9",
        "outputId": "f8798694-3c15-4795-b1ab-33941a2910d4"
      },
      "execution_count": null,
      "outputs": [
        {
          "output_type": "stream",
          "name": "stdout",
          "text": [
            "Ingrese nombre de amigo2\n",
            "Ingrese nombre de amigoale\n",
            "Ingrese nombre de amigorosa\n",
            "Hola  ale\n",
            "Hola  rosa\n"
          ]
        }
      ]
    }
  ]
}